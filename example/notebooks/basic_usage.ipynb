{
 "cells": [
  {
   "cell_type": "markdown",
   "metadata": {},
   "source": [
    "# Example notebook for Image Classification (with imagenet-mini)"
   ]
  },
  {
   "cell_type": "markdown",
   "metadata": {},
   "source": [
    "In this tutorial, You will see how You can use explainable algorithms to study pre-trained model decision. We will take a pre-trained model, sample images and run several explainable methods."
   ]
  },
  {
   "cell_type": "markdown",
   "metadata": {
    "tags": []
   },
   "source": [
    "### Setup "
   ]
  },
  {
   "cell_type": "markdown",
   "metadata": {
    "tags": []
   },
   "source": [
    "#### Imports"
   ]
  },
  {
   "cell_type": "markdown",
   "metadata": {},
   "source": [
    "First we have to import all necessary libraries."
   ]
  },
  {
   "cell_type": "code",
   "execution_count": null,
   "metadata": {},
   "outputs": [],
   "source": [
    "# import necessary libraries\n",
    "import os\n",
    "import torch\n",
    "from torch.utils.data import DataLoader\n",
    "import torchvision\n",
    "\n",
    "from foxai.context_manager import FoXaiExplainer, ExplainerWithParams, CVClassificationExplainers\n",
    "from foxai.visualizer import mean_channels_visualization"
   ]
  },
  {
   "cell_type": "markdown",
   "metadata": {},
   "source": [
    "Install missing libraries required by `YOLOv5` that are not part of `foxai` package."
   ]
  },
  {
   "cell_type": "code",
   "execution_count": null,
   "metadata": {},
   "outputs": [],
   "source": [
    "!pip install scipy opencv-python seaborn ultralytics"
   ]
  },
  {
   "cell_type": "markdown",
   "metadata": {},
   "source": [
    "Configure `CUDA_LAUNCH_BLOCKING=1` to prevent issues with `CUDA` while running GPU-accelerated computations in notebook."
   ]
  },
  {
   "cell_type": "code",
   "execution_count": null,
   "metadata": {},
   "outputs": [],
   "source": [
    "os.environ['CUDA_LAUNCH_BLOCKING'] = \"1\""
   ]
  },
  {
   "cell_type": "markdown",
   "metadata": {
    "tags": []
   },
   "source": [
    "#### Downloading missing models"
   ]
  },
  {
   "cell_type": "markdown",
   "metadata": {},
   "source": [
    "Download `YOLOv5` and `ImageNet.yaml` files from https://github.com/ultralytics/yolov5 if not present in local storage."
   ]
  },
  {
   "cell_type": "code",
   "execution_count": null,
   "metadata": {},
   "outputs": [],
   "source": [
    "# check if YOLOv5 model and ImageNet.yaml files are present at local storage and if they are not download them\n",
    "![ ! -f \"yolov5s-cls.pt\" ] && wget https://github.com/ultralytics/yolov5/releases/download/v6.2/yolov5s-cls.pt\n",
    "![ ! -f \"ImageNet.yaml\" ] && wget https://raw.githubusercontent.com/ultralytics/yolov5/master/data/ImageNet.yaml"
   ]
  },
  {
   "cell_type": "markdown",
   "metadata": {
    "tags": []
   },
   "source": [
    "#### Define custom functions"
   ]
  },
  {
   "cell_type": "markdown",
   "metadata": {},
   "source": [
    "Define custom function to visualize figures"
   ]
  },
  {
   "cell_type": "code",
   "execution_count": null,
   "metadata": {},
   "outputs": [],
   "source": [
    "import matplotlib.pyplot as plt\n",
    "\n",
    "# function to enable displaying matplotlib Figures in notebooks\n",
    "def show_figure(fig): \n",
    "    dummy = plt.figure()\n",
    "    new_manager = dummy.canvas.manager\n",
    "    new_manager.canvas.figure = fig\n",
    "    new_manager.set_window_title(\"Test\")\n",
    "    fig.set_canvas(new_manager.canvas)\n",
    "    return dummy"
   ]
  },
  {
   "cell_type": "markdown",
   "metadata": {},
   "source": [
    "Define function that will load model, list of labels and transformation function of a desired model. Currently we support, in this notebook, only a few models: `VGG11`, `ResNet50`, `ViT`, `MobileNetV3` and `YOLOv5`. You can easilly add new models from `torchvision` model zoo and even define Your own model."
   ]
  },
  {
   "cell_type": "code",
   "execution_count": null,
   "metadata": {},
   "outputs": [],
   "source": [
    "import yaml\n",
    "from yaml.loader import SafeLoader\n",
    "from torchvision.transforms._presets import ImageClassification\n",
    "from typing import Tuple, List\n",
    "\n",
    "\n",
    "def load_model(\n",
    "    model_name: str,\n",
    ") -> Tuple[torch.nn.Module, List[str], ImageClassification]:\n",
    "    \"\"\"Load model, label list and transformation function used in data preprocessing.\n",
    "\n",
    "    Args:\n",
    "        model_name: Model name. Recognized models are: `vgg11`, `resent50`, `yolov5`,\n",
    "            `vit` and `mobilenetv3`.\n",
    "\n",
    "    Raises:\n",
    "        ValueError: raised if provided model name that is not supported.\n",
    "\n",
    "    Returns:\n",
    "        Tuple of model, list of labels and transformation function.\n",
    "    \"\"\"\n",
    "    # normalize model name to match recognized models\n",
    "    model_name_normalized: str = model_name.lower().strip()\n",
    "    if model_name_normalized == \"yolov5\":\n",
    "        # load YOLOv5 from torch Hub according to https://github.com/ultralytics/yolov5\n",
    "        model = torch.hub.load('ultralytics/yolov5', 'custom', 'yolov5s-cls.pt')\n",
    "\n",
    "        # apply transformations just like in MobileNetV3\n",
    "        transform = torchvision.models.MobileNet_V3_Small_Weights.IMAGENET1K_V1.transforms()\n",
    "        \n",
    "        # load YOLOv5 configuration\n",
    "        with open(\"ImageNet.yaml\") as file:\n",
    "            data = yaml.load(file, Loader=SafeLoader)\n",
    "\n",
    "        # and get only class names\n",
    "        categories = list(data[\"names\"].values())\n",
    "    elif model_name_normalized == \"vgg11\":\n",
    "        weights = torchvision.models.VGG11_Weights.IMAGENET1K_V1\n",
    "\n",
    "        # load model from torchvision model zoo\n",
    "        model = torchvision.models.vgg11(weights=weights)\n",
    "\n",
    "        # get class names\n",
    "        categories = weights.meta[\"categories\"]\n",
    "        transform = weights.transforms()\n",
    "    elif model_name_normalized == \"vit\":\n",
    "        weights = torchvision.models.ViT_B_16_Weights.IMAGENET1K_V1\n",
    "\n",
    "        # load model from torchvision model zoo\n",
    "        model = torchvision.models.vit_b_16(weights=weights)\n",
    "\n",
    "        # get class names\n",
    "        categories = weights.meta[\"categories\"]\n",
    "        transform = weights.transforms()\n",
    "    elif model_name_normalized == \"resnet50\":\n",
    "        weights = torchvision.models.ResNet50_Weights.IMAGENET1K_V1\n",
    "\n",
    "        # load model from torchvision model zoo\n",
    "        model = torchvision.models.resnet50(weights=weights)\n",
    "\n",
    "        # get class names\n",
    "        categories = weights.meta[\"categories\"]\n",
    "        transform = weights.transforms()\n",
    "    elif model_name_normalized == \"mobilenetv3\":\n",
    "        weights = torchvision.models.MobileNet_V3_Small_Weights.IMAGENET1K_V1\n",
    "\n",
    "        # load model from torchvision model zoo\n",
    "        model = torchvision.models.mobilenet_v3_small(weights=weights)\n",
    "\n",
    "        # get class names\n",
    "        categories = weights.meta[\"categories\"]\n",
    "        transform = weights.transforms()\n",
    "    else:\n",
    "        raise ValueError(f\"Unrecognized model name: {model_name}\")\n",
    "\n",
    "    return model, categories, transform"
   ]
  },
  {
   "cell_type": "markdown",
   "metadata": {
    "tags": []
   },
   "source": [
    "### Configuration"
   ]
  },
  {
   "cell_type": "markdown",
   "metadata": {},
   "source": [
    "Cell below contains configuration of this notebook. We have defined max number of samples to be saved in artifact directory, path to `ImageNet-Mini` dataset downloaded from [Kaggle](https://www.kaggle.com/datasets/ifigotin/imagenetmini-1000), name of the model, batch_size and device to be used."
   ]
  },
  {
   "cell_type": "code",
   "execution_count": null,
   "metadata": {},
   "outputs": [],
   "source": [
    "batch_size: int = 1\n",
    "max_samples_explained: int = 10\n",
    "device = torch.device(\"cuda:0\") if torch.cuda.is_available() else torch.device(\"cpu\")\n",
    "model_name: str = \"yolov5\"\n",
    "\n",
    "# define directory where explanation artifacts will be stored\n",
    "artifact_dir: str = f\"artifacts/{model_name}/\"\n",
    "\n",
    "# `data_dir` variable contains path to dataset downloaded from https://www.kaggle.com/datasets/ifigotin/imagenetmini-1000.\n",
    "# You have to register in Kaggle to be able to download this dataset.\n",
    "data_dir: str = \"/home/user/Downloads/imagenet-mini\"\n"
   ]
  },
  {
   "cell_type": "markdown",
   "metadata": {
    "tags": []
   },
   "source": [
    "### Loading the model"
   ]
  },
  {
   "cell_type": "markdown",
   "metadata": {},
   "source": [
    "Load specified model, put it in evaluation mode, place it on specified device, download and preprocess `ImageNet-Mini` dataset. Trasformation function is used to match training dataset preprocessing steps."
   ]
  },
  {
   "cell_type": "code",
   "execution_count": null,
   "metadata": {},
   "outputs": [],
   "source": [
    "# load model, classes and transformation function\n",
    "model, categories, transform = load_model(model_name=model_name)\n",
    "\n",
    "# put model in evaluation mode\n",
    "model.eval()\n",
    "\n",
    "# place model on specified device (CPU or GPU)\n",
    "model.to(device)\n",
    "\n",
    "# load test dataset - ImageNet-Mini downloaded from Kaggle: https://www.kaggle.com/datasets/ifigotin/imagenetmini-1000\n",
    "imagenet_val = torchvision.datasets.ImageFolder(root=f\"{data_dir}/val\", transform=transform)\n",
    "val_dataloader = DataLoader(imagenet_val, batch_size=batch_size)"
   ]
  },
  {
   "cell_type": "code",
   "execution_count": null,
   "metadata": {},
   "outputs": [],
   "source": [
    "# instruct notebook to display figures inline\n",
    "%matplotlib inline"
   ]
  },
  {
   "cell_type": "markdown",
   "metadata": {},
   "source": [
    "## Data sample"
   ]
  },
  {
   "cell_type": "markdown",
   "metadata": {},
   "source": [
    "Let's see how images from `ImageNet-Mini` looks like. We will display first few samples of dataset. In the following steps we will use them to explain model predictions using different explainable algorithms."
   ]
  },
  {
   "cell_type": "code",
   "execution_count": null,
   "metadata": {},
   "outputs": [],
   "source": [
    "from matplotlib import pyplot as plt\n",
    "from foxai.array_utils import convert_standardized_float_to_uint8, standardize_array\n",
    "\n",
    "counter: int = 0\n",
    "    \n",
    "# create subplot with given number of samples to display\n",
    "fig, axes = plt.subplots(max_samples_explained, 1, figsize=(25, 25))\n",
    "\n",
    "# iterate over dataloader\n",
    "for batch in val_dataloader:\n",
    "    for sample, label in zip(*batch):\n",
    "        # change image shape from (C X H X W) to (H X W X C)\n",
    "        # where C stands for colour, X is height and W is width dimension\n",
    "#         sample_np = sample.permute((1, 2, 0)).numpy().astype(float)\n",
    "        sample_np = sample.permute((1, 2, 0)).numpy().astype(float)\n",
    "        \n",
    "        # set title\n",
    "        axes.flat[counter].set_title(f\"Label: {categories[label.item()]}\")\n",
    "        \n",
    "        # disable visualizing X and Y axes\n",
    "        axes.flat[counter].get_xaxis().set_visible(False)\n",
    "        axes.flat[counter].get_yaxis().set_visible(False)\n",
    "\n",
    "        # convert image from float to uint8 and display it\n",
    "        axes.flat[counter].imshow(convert_standardized_float_to_uint8(standardize_array(sample_np.astype(float))))\n",
    "        counter += 1\n",
    "\n",
    "        if counter >= max_samples_explained:\n",
    "            break\n",
    "\n",
    "    if counter >= max_samples_explained:\n",
    "        break"
   ]
  },
  {
   "cell_type": "markdown",
   "metadata": {
    "tags": []
   },
   "source": [
    "## Demo for general algorithms "
   ]
  },
  {
   "cell_type": "markdown",
   "metadata": {
    "tags": []
   },
   "source": [
    "### Choosing foxai explainers (general algorithms)"
   ]
  },
  {
   "cell_type": "markdown",
   "metadata": {},
   "source": [
    "Define list of explainers from `foxai` package You want to use on specified model. Full list of supported explainers can be found at definition of `Explainers` enum class."
   ]
  },
  {
   "cell_type": "code",
   "execution_count": null,
   "metadata": {},
   "outputs": [],
   "source": [
    "# define list of explainers we want to use\n",
    "# full list of supported explainers is present in `Explainers` enum class.\n",
    "explainer_list = [\n",
    "    ExplainerWithParams(explainer_name=CVClassificationExplainers.CV_GRADIENT_SHAP_EXPLAINER),\n",
    "    ExplainerWithParams(explainer_name=CVClassificationExplainers.CV_INPUT_X_GRADIENT_EXPLAINER),\n",
    "    ExplainerWithParams(explainer_name=CVClassificationExplainers.CV_INTEGRATED_GRADIENTS_EXPLAINER),\n",
    "]"
   ]
  },
  {
   "cell_type": "markdown",
   "metadata": {
    "tags": []
   },
   "source": [
    "### Explaining the predictions (general algorithms)"
   ]
  },
  {
   "cell_type": "markdown",
   "metadata": {},
   "source": [
    "Iterate over dataset and explain predictions given by selected model using all specified CVClassificationExplainers. It could take a long time, depending on number of selected explainers and number of samples to explain. During this process new artifacts will be saved in artifact directory."
   ]
  },
  {
   "cell_type": "code",
   "execution_count": null,
   "metadata": {},
   "outputs": [],
   "source": [
    "sample: torch.Tensor\n",
    "label: int\n",
    "\n",
    "sample_counter: int = 0\n",
    "    \n",
    "# iterate over dataloader\n",
    "for sample_batch in val_dataloader:\n",
    "    sample_list, label_list = sample_batch\n",
    "    # iterate over all samples in batch\n",
    "    for sample, label in zip(sample_list, label_list):\n",
    "        # add batch size dimension to the data sample\n",
    "        # input_data = sample.reshape(1, sample.shape[0], sample.shape[1], sample.shape[2]).to(device)\n",
    "        input_data = sample.reshape(1, sample.shape[0], sample.shape[1], sample.shape[2]).to(device)\n",
    "        category_name = categories[label.item()]\n",
    "        # move it to specified device\n",
    "        with FoXaiExplainer(\n",
    "            model=model,\n",
    "            explainers=explainer_list,\n",
    "            target=label,\n",
    "        ) as xai_model:\n",
    "            # calculate attributes for every explainer\n",
    "            _, attributes_dict = xai_model(input_data)\n",
    "\n",
    "        for key, value in attributes_dict.items():\n",
    "            # create directory for every explainer artifacts\n",
    "            artifact_explainer_dir = os.path.join(artifact_dir, key)\n",
    "            if not os.path.exists(artifact_explainer_dir):\n",
    "                os.makedirs(artifact_explainer_dir)\n",
    "\n",
    "            # create figure from attributes and original image           \n",
    "            figure = mean_channels_visualization(attributions=value[0], transformed_img=sample, title= f\"Mean of channels ({key})\")\n",
    "\n",
    "            # save figure to artifact directory\n",
    "            figure.savefig(os.path.join(artifact_explainer_dir, f\"artifact_{sample_counter}_{category_name}.png\"))\n",
    "            show_figure(figure)\n",
    "            \n",
    "        sample_counter += 1\n",
    "        # if we processed desired number of samples break the loop\n",
    "        if sample_counter > max_samples_explained:\n",
    "            break\n",
    "\n",
    "    # if we processed desired number of samples break the loop\n",
    "    if sample_counter > max_samples_explained:\n",
    "        break"
   ]
  },
  {
   "cell_type": "markdown",
   "metadata": {
    "tags": []
   },
   "source": [
    "## Demo for layer specific algorithms"
   ]
  },
  {
   "cell_type": "markdown",
   "metadata": {},
   "source": [
    "There are algorithms that are computing explanations on the level of single layer. You have to select one layer to explain against it. Many algorithms are using only `Conv2d` layers to explain. In the cell below we are fetching last convolutional layer from the network to explain."
   ]
  },
  {
   "cell_type": "code",
   "execution_count": null,
   "metadata": {},
   "outputs": [],
   "source": [
    "layer = [module for module in model.modules() if isinstance(module, torch.nn.Conv2d)][-1]"
   ]
  },
  {
   "cell_type": "markdown",
   "metadata": {},
   "source": [
    "Next, You have to pass additional parameters to selected CVClassificationExplainers. Our context manager accepts objects of `ExplainerWithParams` class which store additional parameters to CVClassificationExplainers. In the cell below we are creating two explainers with additional `layer` arguments. "
   ]
  },
  {
   "cell_type": "markdown",
   "metadata": {},
   "source": [
    "### Choosing foxai explainers (layer-specific algorithms)"
   ]
  },
  {
   "cell_type": "markdown",
   "metadata": {},
   "source": [
    "To explain the operation of the model at the level of a single network layer, pass an object representing the model layer to the `ExplainerWithParams` class, as shown in the cell below."
   ]
  },
  {
   "cell_type": "code",
   "execution_count": null,
   "metadata": {},
   "outputs": [],
   "source": [
    "# define list of explainers we want to use\n",
    "# full list of supported explainers is present in `Explainers` enum class.\n",
    "explainer_list = [\n",
    "    ExplainerWithParams(explainer_name=CVClassificationExplainers.CV_GUIDEDGRADCAM_EXPLAINER, layer=layer),\n",
    "    ExplainerWithParams(explainer_name=CVClassificationExplainers.CV_LAYER_GRADCAM_EXPLAINER, layer=layer),\n",
    "]"
   ]
  },
  {
   "cell_type": "markdown",
   "metadata": {
    "tags": []
   },
   "source": [
    "### Explaining the predictions (layer-specific algorithms)"
   ]
  },
  {
   "cell_type": "markdown",
   "metadata": {},
   "source": [
    "Explanation code looks the same. We don't have to change anything here."
   ]
  },
  {
   "cell_type": "code",
   "execution_count": null,
   "metadata": {},
   "outputs": [],
   "source": [
    "sample_counter = 0\n",
    "\n",
    "# iterate over dataloader\n",
    "for sample_batch in val_dataloader:\n",
    "    sample_list, label_list = sample_batch\n",
    "    # iterate over all samples in batch\n",
    "    for sample, label in zip(sample_list, label_list):\n",
    "        # add batch size dimension to the data sample\n",
    "        input_data = sample.reshape(1, sample.shape[0], sample.shape[1], sample.shape[2]).to(device)\n",
    "        category_name = categories[label.item()]\n",
    "        with FoXaiExplainer(\n",
    "            model=model,\n",
    "            explainers=explainer_list,\n",
    "            target=label,\n",
    "        ) as xai_model:\n",
    "            # calculate attributes for every explainer\n",
    "            _, attributes_dict = xai_model(input_data)\n",
    "\n",
    "        for key, value in attributes_dict.items():\n",
    "            # create directory for every explainer artifacts\n",
    "            artifact_explainer_dir = os.path.join(artifact_dir, key)\n",
    "            if not os.path.exists(artifact_explainer_dir):\n",
    "                os.makedirs(artifact_explainer_dir)\n",
    "\n",
    "            # create figure from attributes and original image           \n",
    "            figure = mean_channels_visualization(attributions=value[0], transformed_img=sample, title= f\"Mean of channels ({key})\")\n",
    "\n",
    "            # save figure to artifact directory\n",
    "            figure.savefig(os.path.join(artifact_explainer_dir, f\"artifact_{sample_counter}_{category_name}.png\"))\n",
    "            show_figure(figure)\n",
    "            \n",
    "        sample_counter += 1\n",
    "        # if we processed desired number of samples break the loop\n",
    "        if sample_counter > max_samples_explained:\n",
    "            break\n",
    "\n",
    "    # if we processed desired number of samples break the loop\n",
    "    if sample_counter > max_samples_explained:\n",
    "        break"
   ]
  },
  {
   "cell_type": "markdown",
   "metadata": {},
   "source": [
    "## Congratulations"
   ]
  },
  {
   "cell_type": "markdown",
   "metadata": {},
   "source": [
    "You have learned to use the basic functionality of the library. You can now experiment and gain confidence in your ML models."
   ]
  },
  {
   "cell_type": "code",
   "execution_count": null,
   "metadata": {},
   "outputs": [],
   "source": []
  }
 ],
 "metadata": {
  "kernelspec": {
   "display_name": "Python 3 (ipykernel)",
   "language": "python",
   "name": "python3"
  },
  "language_info": {
   "codemirror_mode": {
    "name": "ipython",
    "version": 3
   },
   "file_extension": ".py",
   "mimetype": "text/x-python",
   "name": "python",
   "nbconvert_exporter": "python",
   "pygments_lexer": "ipython3",
   "version": "3.7.13"
  },
  "vscode": {
   "interpreter": {
    "hash": "7f79331cdf6e3c8bfe168cb4666a98099574090ffd65bf1303d625797507a1f0"
   }
  }
 },
 "nbformat": 4,
 "nbformat_minor": 4
}
