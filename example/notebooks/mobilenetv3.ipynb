{
 "cells": [
  {
   "attachments": {},
   "cell_type": "markdown",
   "metadata": {},
   "source": [
    "Dataset can be downloaded from: https://www.kaggle.com/datasets/ifigotin/imagenetmini-1000"
   ]
  },
  {
   "cell_type": "code",
   "execution_count": 1,
   "metadata": {},
   "outputs": [
    {
     "name": "stderr",
     "output_type": "stream",
     "text": [
      "/home/user/praca/AutoXAI/.venv/lib/python3.8/site-packages/tqdm/auto.py:22: TqdmWarning: IProgress not found. Please update jupyter and ipywidgets. See https://ipywidgets.readthedocs.io/en/stable/user_install.html\n",
      "  from .autonotebook import tqdm as notebook_tqdm\n"
     ]
    }
   ],
   "source": [
    "import os\n",
    "import torch\n",
    "from pytorch_lightning import LightningModule\n",
    "from torch.nn import functional as F\n",
    "from torch.utils.data import DataLoader, random_split\n",
    "from torchmetrics import Accuracy\n",
    "import torchvision\n",
    "from torchvision import transforms\n",
    "from torchvision.datasets import MNIST, ImageNet"
   ]
  },
  {
   "cell_type": "code",
   "execution_count": 2,
   "metadata": {},
   "outputs": [
    {
     "name": "stdout",
     "output_type": "stream",
     "text": [
      "Requirement already satisfied: scipy in /home/user/praca/AutoXAI/.venv/lib/python3.8/site-packages (1.10.0)\n",
      "Requirement already satisfied: numpy<1.27.0,>=1.19.5 in /home/user/praca/AutoXAI/.venv/lib/python3.8/site-packages (from scipy) (1.23.4)\n"
     ]
    }
   ],
   "source": [
    "!pip install scipy"
   ]
  },
  {
   "cell_type": "code",
   "execution_count": 3,
   "metadata": {},
   "outputs": [],
   "source": [
    "os.environ['CUDA_LAUNCH_BLOCKING'] = \"1\""
   ]
  },
  {
   "cell_type": "code",
   "execution_count": 4,
   "metadata": {},
   "outputs": [],
   "source": [
    "batch_size: int = 256 if torch.cuda.is_available() else 64\n",
    "max_epochs: int = 3\n",
    "max_samples_explained: int = 10\n",
    "device = torch.device(\"cuda:0\") if torch.cuda.is_available() else torch.device(\"cpu\")\n",
    "data_dir: str = \"/home/user/Downloads/imagenet-mini\"\n",
    "\n",
    "# Define PyTorch model\n",
    "weights = torchvision.models.MobileNet_V3_Small_Weights.IMAGENET1K_V1\n",
    "model = torchvision.models.mobilenet_v3_small(weights=weights).eval()\n",
    "model.to(device)\n",
    "categories = weights.meta[\"categories\"]\n",
    "transform = weights.transforms()\n",
    "\n",
    "imagenet_train = torchvision.datasets.ImageFolder(root=f\"{data_dir}/train\", transform=transform)\n",
    "imagenet_val = torchvision.datasets.ImageFolder(root=f\"{data_dir}/val\", transform=transform)"
   ]
  },
  {
   "cell_type": "code",
   "execution_count": 5,
   "metadata": {},
   "outputs": [],
   "source": [
    "from autoxai.explainer.base_explainer import CVExplainer\n",
    "from autoxai.context_manager import AutoXaiExplainer, ExplainerWithParams, Explainers"
   ]
  },
  {
   "cell_type": "code",
   "execution_count": 6,
   "metadata": {},
   "outputs": [
    {
     "name": "stderr",
     "output_type": "stream",
     "text": [
      "2023-01-10 16:07:41,586 INFO autoxai.explainer.base_explainer - No negative attributes in the explained model.\n",
      "2023-01-10 16:07:51,518 INFO autoxai.explainer.base_explainer - No negative attributes in the explained model.\n",
      "2023-01-10 16:08:02,314 INFO autoxai.explainer.base_explainer - No negative attributes in the explained model.\n",
      "2023-01-10 16:08:10,554 INFO autoxai.explainer.base_explainer - No negative attributes in the explained model.\n",
      "2023-01-10 16:08:16,722 INFO autoxai.explainer.base_explainer - No negative attributes in the explained model.\n",
      "2023-01-10 16:08:22,787 INFO autoxai.explainer.base_explainer - No negative attributes in the explained model.\n",
      "2023-01-10 16:08:28,866 INFO autoxai.explainer.base_explainer - No negative attributes in the explained model.\n",
      "2023-01-10 16:08:35,033 INFO autoxai.explainer.base_explainer - No negative attributes in the explained model.\n",
      "2023-01-10 16:08:41,042 INFO autoxai.explainer.base_explainer - No negative attributes in the explained model.\n",
      "2023-01-10 16:08:47,208 INFO autoxai.explainer.base_explainer - No negative attributes in the explained model.\n",
      "2023-01-10 16:08:53,257 INFO autoxai.explainer.base_explainer - No negative attributes in the explained model.\n"
     ]
    }
   ],
   "source": [
    "explainer_list = [\n",
    "    ExplainerWithParams(explainer_name=Explainers.CV_GRADIENT_SHAP_EXPLAINER),\n",
    "    ExplainerWithParams(explainer_name=Explainers.CV_NOISE_TUNNEL_EXPLAINER),\n",
    "]\n",
    "\n",
    "val_dataloader = DataLoader(imagenet_val, batch_size=batch_size)\n",
    "artifact_dir: str = \"artifacts/mobilenetv3/\"\n",
    "sample: torch.Tensor\n",
    "label: int\n",
    "\n",
    "counter: int = 0\n",
    "exp: CVExplainer\n",
    "for sample_batch in val_dataloader:\n",
    "    sample_list, label_list = sample_batch\n",
    "    for sample, label in zip(sample_list, label_list):\n",
    "        label_int = label\n",
    "        input_data = sample.reshape(1, sample.shape[0], sample.shape[1], sample.shape[2]).to(device)\n",
    "        with AutoXaiExplainer(\n",
    "            model=model,\n",
    "            explainers=explainer_list,\n",
    "        ) as xai_model:\n",
    "            _, attributes_dict = xai_model(input_data)\n",
    "\n",
    "        for key, value in attributes_dict.items():\n",
    "            # create directory for every explainer artifacts\n",
    "            artifact_explainer_dir = os.path.join(artifact_dir, key)\n",
    "            if not os.path.exists(artifact_explainer_dir):\n",
    "                os.makedirs(artifact_explainer_dir)\n",
    "\n",
    "            figure = CVExplainer.visualize(attributions=value, transformed_img=sample)\n",
    "            figure.savefig(os.path.join(artifact_explainer_dir, f\"artifact_{counter}_{categories[label]}.png\"))\n",
    "\n",
    "        counter += 1\n",
    "        if counter > max_samples_explained:\n",
    "            break\n",
    "    break\n"
   ]
  }
 ],
 "metadata": {
  "kernelspec": {
   "display_name": ".venv",
   "language": "python",
   "name": "python3"
  },
  "language_info": {
   "codemirror_mode": {
    "name": "ipython",
    "version": 3
   },
   "file_extension": ".py",
   "mimetype": "text/x-python",
   "name": "python",
   "nbconvert_exporter": "python",
   "pygments_lexer": "ipython3",
   "version": "3.8.16"
  },
  "orig_nbformat": 4,
  "vscode": {
   "interpreter": {
    "hash": "0b6969b3572db2a15157531a0a5e0349bcc012e2552026eae9f4d51dce8b0863"
   }
  }
 },
 "nbformat": 4,
 "nbformat_minor": 2
}
