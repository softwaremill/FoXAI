{
 "cells": [
  {
   "attachments": {},
   "cell_type": "markdown",
   "metadata": {},
   "source": [
    "First we have to import all necessary libraries."
   ]
  },
  {
   "cell_type": "code",
   "execution_count": 1,
   "metadata": {},
   "outputs": [],
   "source": [
    "# import necessary libraries\n",
    "import os\n",
    "import torch\n",
    "from pytorch_lightning import LightningModule\n",
    "from torch.nn import functional as F\n",
    "from torch.utils.data import DataLoader, random_split\n",
    "from torchmetrics import Accuracy\n",
    "import torchvision\n",
    "from torchvision import transforms\n",
    "from torchvision.datasets import MNIST, ImageNet\n",
    "\n",
    "from autoxai.explainer.base_explainer import CVExplainer\n",
    "from autoxai.context_manager import AutoXaiExplainer, ExplainerWithParams, Explainers"
   ]
  },
  {
   "attachments": {},
   "cell_type": "markdown",
   "metadata": {},
   "source": [
    "Install missing libraries required by `YOLOv5` that are not part of `autoxai` package."
   ]
  },
  {
   "cell_type": "code",
   "execution_count": 2,
   "metadata": {},
   "outputs": [
    {
     "name": "stdout",
     "output_type": "stream",
     "text": [
      "Requirement already satisfied: scipy in /home/user/praca/AutoXAI/.venv/lib/python3.8/site-packages (1.10.0)\n",
      "Requirement already satisfied: opencv-python in /home/user/praca/AutoXAI/.venv/lib/python3.8/site-packages (4.7.0.68)\n",
      "Requirement already satisfied: seaborn in /home/user/praca/AutoXAI/.venv/lib/python3.8/site-packages (0.12.2)\n",
      "Requirement already satisfied: numpy<1.27.0,>=1.19.5 in /home/user/praca/AutoXAI/.venv/lib/python3.8/site-packages (from scipy) (1.23.4)\n",
      "Requirement already satisfied: pandas>=0.25 in /home/user/praca/AutoXAI/.venv/lib/python3.8/site-packages (from seaborn) (1.5.2)\n",
      "Requirement already satisfied: matplotlib!=3.6.1,>=3.1 in /home/user/praca/AutoXAI/.venv/lib/python3.8/site-packages (from seaborn) (3.6.2)\n",
      "Requirement already satisfied: python-dateutil>=2.7 in /home/user/praca/AutoXAI/.venv/lib/python3.8/site-packages (from matplotlib!=3.6.1,>=3.1->seaborn) (2.8.2)\n",
      "Requirement already satisfied: pyparsing>=2.2.1 in /home/user/praca/AutoXAI/.venv/lib/python3.8/site-packages (from matplotlib!=3.6.1,>=3.1->seaborn) (3.0.9)\n",
      "Requirement already satisfied: packaging>=20.0 in /home/user/praca/AutoXAI/.venv/lib/python3.8/site-packages (from matplotlib!=3.6.1,>=3.1->seaborn) (23.0)\n",
      "Requirement already satisfied: pillow>=6.2.0 in /home/user/praca/AutoXAI/.venv/lib/python3.8/site-packages (from matplotlib!=3.6.1,>=3.1->seaborn) (9.3.0)\n",
      "Requirement already satisfied: fonttools>=4.22.0 in /home/user/praca/AutoXAI/.venv/lib/python3.8/site-packages (from matplotlib!=3.6.1,>=3.1->seaborn) (4.38.0)\n",
      "Requirement already satisfied: kiwisolver>=1.0.1 in /home/user/praca/AutoXAI/.venv/lib/python3.8/site-packages (from matplotlib!=3.6.1,>=3.1->seaborn) (1.4.4)\n",
      "Requirement already satisfied: contourpy>=1.0.1 in /home/user/praca/AutoXAI/.venv/lib/python3.8/site-packages (from matplotlib!=3.6.1,>=3.1->seaborn) (1.0.6)\n",
      "Requirement already satisfied: cycler>=0.10 in /home/user/praca/AutoXAI/.venv/lib/python3.8/site-packages (from matplotlib!=3.6.1,>=3.1->seaborn) (0.11.0)\n",
      "Requirement already satisfied: pytz>=2020.1 in /home/user/praca/AutoXAI/.venv/lib/python3.8/site-packages (from pandas>=0.25->seaborn) (2022.7)\n",
      "Requirement already satisfied: six>=1.5 in /home/user/praca/AutoXAI/.venv/lib/python3.8/site-packages (from python-dateutil>=2.7->matplotlib!=3.6.1,>=3.1->seaborn) (1.16.0)\n"
     ]
    }
   ],
   "source": [
    "# install missing libraries required by YOLOv5\n",
    "!pip install scipy opencv-python seaborn"
   ]
  },
  {
   "attachments": {},
   "cell_type": "markdown",
   "metadata": {},
   "source": [
    "Configure `CUDA_LAUNCH_BLOCKING=1` to prevent issues with `CUDA` while running GPU-accelerated computations in notebook."
   ]
  },
  {
   "cell_type": "code",
   "execution_count": 3,
   "metadata": {},
   "outputs": [],
   "source": [
    "# for running GPU accelerated computations in notebook requires blocking CUDA launch\n",
    "os.environ['CUDA_LAUNCH_BLOCKING'] = \"1\""
   ]
  },
  {
   "attachments": {},
   "cell_type": "markdown",
   "metadata": {},
   "source": [
    "Download `YOLOv5` and `ImageNet.yaml` files from https://github.com/ultralytics/yolov5 if not present in local storage."
   ]
  },
  {
   "cell_type": "code",
   "execution_count": 4,
   "metadata": {},
   "outputs": [],
   "source": [
    "# check if YOLOv5 model and ImageNet.yaml files are present at local storage and if they are not download them\n",
    "![ ! -f \"yolov5s-cls.pt\" ] && wget https://github.com/ultralytics/yolov5/releases/download/v6.2/yolov5s-cls.pt\n",
    "![ ! -f \"ImageNet.yaml\" ] && wget https://raw.githubusercontent.com/ultralytics/yolov5/master/data/ImageNet.yaml"
   ]
  },
  {
   "attachments": {},
   "cell_type": "markdown",
   "metadata": {},
   "source": [
    "Define function that will load model, list of labels and transformation function of a desired model. Currently we support, in this notebook, only a few models: `VGG11`, `ResNet50`, `ViT`, `MobileNetV3` and `YOLOv5`. You can easilly add new models from `torchvision` model zoo and even define Your own model."
   ]
  },
  {
   "cell_type": "code",
   "execution_count": 5,
   "metadata": {},
   "outputs": [],
   "source": [
    "import yaml\n",
    "from yaml.loader import SafeLoader\n",
    "from torchvision.transforms._presets import ImageClassification\n",
    "from typing import Tuple, List\n",
    "\n",
    "\n",
    "def load_model(\n",
    "    model_name: str,\n",
    ") -> Tuple[torch.nn.Module, List[str], ImageClassification]:\n",
    "    \"\"\"Load model, label list and transformation function used in data preprocessing.\n",
    "\n",
    "    Args:\n",
    "        model_name: Model name. Recognized models are: `vgg11`, `resent50`, `yolov5`,\n",
    "            `vit` and `mobilenetv3`.\n",
    "\n",
    "    Raises:\n",
    "        ValueError: raised if provided model name that is not supported.\n",
    "\n",
    "    Returns:\n",
    "        Tuple of model, list of labels and transformation function.\n",
    "    \"\"\"\n",
    "    # normalize model name to match recognized models\n",
    "    model_name_normalized: str = model_name.lower().strip()\n",
    "    if model_name_normalized == \"yolov5\":\n",
    "        # load YOLOv5 from torch Hub according to https://github.com/ultralytics/yolov5\n",
    "        model = torch.hub.load('ultralytics/yolov5', 'custom', 'yolov5s-cls.pt')\n",
    "\n",
    "        # apply transformations just like in MobileNetV3\n",
    "        transform = torchvision.models.MobileNet_V3_Small_Weights.IMAGENET1K_V1.transforms()\n",
    "        \n",
    "        # load YOLOv5 configuration\n",
    "        with open(\"ImageNet.yaml\") as file:\n",
    "            data = yaml.load(file, Loader=SafeLoader)\n",
    "\n",
    "        # and get only class names\n",
    "        categories = list(data[\"names\"].values())\n",
    "    elif model_name_normalized == \"vgg11\":\n",
    "        weights = torchvision.models.VGG11_Weights.IMAGENET1K_V1\n",
    "\n",
    "        # load model from torchvision model zoo\n",
    "        model = torchvision.models.vgg11(weights=weights)\n",
    "\n",
    "        # get class names\n",
    "        categories = weights.meta[\"categories\"]\n",
    "        transform = weights.transforms()\n",
    "    elif model_name_normalized == \"vit\":\n",
    "        weights = torchvision.models.ViT_B_16_Weights.IMAGENET1K_V1\n",
    "\n",
    "        # load model from torchvision model zoo\n",
    "        model = torchvision.models.vit_b_16(weights=weights)\n",
    "\n",
    "        # get class names\n",
    "        categories = weights.meta[\"categories\"]\n",
    "        transform = weights.transforms()\n",
    "    elif model_name_normalized == \"resnet50\":\n",
    "        weights = torchvision.models.ResNet50_Weights.IMAGENET1K_V1\n",
    "\n",
    "        # load model from torchvision model zoo\n",
    "        model = torchvision.models.resnet50(weights=weights)\n",
    "\n",
    "        # get class names\n",
    "        categories = weights.meta[\"categories\"]\n",
    "        transform = weights.transforms()\n",
    "    elif model_name_normalized == \"mobilenetv3\":\n",
    "        weights = torchvision.models.MobileNet_V3_Small_Weights.IMAGENET1K_V1\n",
    "\n",
    "        # load model from torchvision model zoo\n",
    "        model = torchvision.models.mobilenet_v3_small(weights=weights)\n",
    "\n",
    "        # get class names\n",
    "        categories = weights.meta[\"categories\"]\n",
    "        transform = weights.transforms()\n",
    "    else:\n",
    "        raise ValueError(f\"Unrecognized model name: {model_name}\")\n",
    "\n",
    "    return model, categories, transform"
   ]
  },
  {
   "attachments": {},
   "cell_type": "markdown",
   "metadata": {},
   "source": [
    "Cell below contains configuration of this notebook. We have defined max number of samples to be saved in artifact directory, path to `ImageNet-Mini` dataset downloaded from [Kaggle](https://www.kaggle.com/datasets/ifigotin/imagenetmini-1000), name of the model, batch_size and device to be used."
   ]
  },
  {
   "cell_type": "code",
   "execution_count": 6,
   "metadata": {},
   "outputs": [],
   "source": [
    "batch_size: int = 1\n",
    "max_samples_explained: int = 5\n",
    "device = torch.device(\"cuda:0\") if torch.cuda.is_available() else torch.device(\"cpu\")\n",
    "model_name: str = \"resnet50\"\n",
    "\n",
    "# define directory where explanation artifacts will be stored\n",
    "artifact_dir: str = f\"artifacts/{model_name}/\"\n",
    "\n",
    "# `data_dir` variable contains path to dataset downloaded from https://www.kaggle.com/datasets/ifigotin/imagenetmini-1000.\n",
    "# You have to register in Kaggle to be able to download this dataset.\n",
    "data_dir: str = \"/home/user/Downloads/imagenet-mini\""
   ]
  },
  {
   "attachments": {},
   "cell_type": "markdown",
   "metadata": {},
   "source": [
    "Load specified model, put it in evaluation mode, place it on specified device, download and preprocess `ImageNet-Mini` dataset."
   ]
  },
  {
   "cell_type": "code",
   "execution_count": 7,
   "metadata": {},
   "outputs": [],
   "source": [
    "# load model, classes and transformation function\n",
    "model, categories, transform = load_model(model_name=model_name)\n",
    "\n",
    "# put model in evaluation mode\n",
    "model.eval()\n",
    "\n",
    "# place model on specified device (CPU or GPU)\n",
    "model.to(device)\n",
    "\n",
    "# load test dataset - ImageNet-Mini downloaded from Kaggle: https://www.kaggle.com/datasets/ifigotin/imagenetmini-1000\n",
    "imagenet_val = torchvision.datasets.ImageFolder(root=f\"{data_dir}/val\", transform=transform)\n",
    "val_dataloader = DataLoader(imagenet_val, batch_size=batch_size)"
   ]
  },
  {
   "attachments": {},
   "cell_type": "markdown",
   "metadata": {},
   "source": [
    "Define list of explainers from `autoxai` package You want to use on specified model. Full list of supported explainers can be found at definition of `Explainers` enum class."
   ]
  },
  {
   "cell_type": "code",
   "execution_count": 8,
   "metadata": {},
   "outputs": [],
   "source": [
    "# define list of explainers we want to use\n",
    "# full list of supported explainers is present in `Explainers` enum class.\n",
    "explainer_list = [\n",
    "    ExplainerWithParams(explainer_name=Explainers.CV_GRADIENT_SHAP_EXPLAINER),\n",
    "    ExplainerWithParams(explainer_name=Explainers.CV_DECONVOLUTION_EXPLAINER),\n",
    "    ExplainerWithParams(explainer_name=Explainers.CV_INPUT_X_GRADIENT_EXPLAINER),\n",
    "    ExplainerWithParams(explainer_name=Explainers.CV_INTEGRATED_GRADIENTS_EXPLAINER),\n",
    "    ExplainerWithParams(explainer_name=Explainers.CV_OCCLUSION_EXPLAINER),\n",
    "]"
   ]
  },
  {
   "attachments": {},
   "cell_type": "markdown",
   "metadata": {},
   "source": [
    "Iterate over dataset and explain predictions given by selected model using all specified explainers. It could take a long time, depending on number of selected explainers and number of samples to explain. During this process new artifacts will be saved in artifact directory."
   ]
  },
  {
   "cell_type": "code",
   "execution_count": 9,
   "metadata": {},
   "outputs": [
    {
     "name": "stderr",
     "output_type": "stream",
     "text": [
      "/home/user/praca/AutoXAI/.venv/lib/python3.8/site-packages/captum/attr/_core/guided_backprop_deconvnet.py:64: UserWarning: Setting backward hooks on ReLU activations.The hooks will be removed after the attribution is finished\n",
      "  warnings.warn(\n"
     ]
    }
   ],
   "source": [
    "sample: torch.Tensor\n",
    "label: int\n",
    "\n",
    "sample_counter: int = 0\n",
    "\n",
    "# iterate over dataloader\n",
    "for sample_batch in val_dataloader:\n",
    "    sample_list, label_list = sample_batch\n",
    "    # iterate over all samples in batch\n",
    "    for sample, label in zip(sample_list, label_list):\n",
    "        # add batch size dimension to the data sample\n",
    "        input_data = sample.reshape(1, sample.shape[0], sample.shape[1], sample.shape[2]).to(device)\n",
    "        \n",
    "        # move it to specified device\n",
    "        input_data = input_data.to(device)\n",
    "        with AutoXaiExplainer(\n",
    "            model=model,\n",
    "            explainers=explainer_list,\n",
    "            target=label,\n",
    "        ) as xai_model:\n",
    "            # calculate attributes for every explainer\n",
    "            _, attributes_dict = xai_model(input_data)\n",
    "\n",
    "        for key, value in attributes_dict.items():\n",
    "            # create directory for every explainer artifacts\n",
    "            artifact_explainer_dir = os.path.join(artifact_dir, key)\n",
    "            if not os.path.exists(artifact_explainer_dir):\n",
    "                os.makedirs(artifact_explainer_dir)\n",
    "\n",
    "            # create figure from attributes and original image\n",
    "            figure = CVExplainer.visualize(attributions=value, transformed_img=sample)\n",
    "\n",
    "            # save figure to artifact directory\n",
    "            figure.savefig(os.path.join(artifact_explainer_dir, f\"artifact_{sample_counter}_{categories[label.item()]}.png\"))\n",
    "\n",
    "        sample_counter += 1\n",
    "        # if we processed desired number of samples break the loop\n",
    "        if sample_counter > max_samples_explained:\n",
    "            break\n",
    "\n",
    "    # if we processed desired number of samples break the loop\n",
    "    if sample_counter > max_samples_explained:\n",
    "        break"
   ]
  },
  {
   "attachments": {},
   "cell_type": "markdown",
   "metadata": {},
   "source": [
    "There are algorithms that are computing explanations on the level of single layer. You have to select one layer to explain against it. Many algorithms are using `Conv2d` layers to explain. In the cell below we are fetching last convolutional layer from network to explain."
   ]
  },
  {
   "cell_type": "code",
   "execution_count": 10,
   "metadata": {},
   "outputs": [],
   "source": [
    "layer = [module for module in model.modules() if isinstance(module, torch.nn.Conv2d)][-1]"
   ]
  },
  {
   "attachments": {},
   "cell_type": "markdown",
   "metadata": {},
   "source": [
    "Pass additional parameters to selected explainers. Our context manager accepts objects of `ExplainerWithParams` class which store additional parameters to explainers. In the cell below we are creating two explainers with additional `layer` arguments. "
   ]
  },
  {
   "cell_type": "code",
   "execution_count": 11,
   "metadata": {},
   "outputs": [],
   "source": [
    "# define list of explainers we want to use\n",
    "# full list of supported explainers is present in `Explainers` enum class.\n",
    "explainer_list = [\n",
    "    ExplainerWithParams(explainer_name=Explainers.CV_GUIDEDGRADCAM_EXPLAINER, layer=layer),\n",
    "    ExplainerWithParams(explainer_name=Explainers.CV_LAYER_GRADCAM_EXPLAINER, layer=layer),\n",
    "]"
   ]
  },
  {
   "attachments": {},
   "cell_type": "markdown",
   "metadata": {},
   "source": [
    "Explanation code looks the same. We don't have to change anything here."
   ]
  },
  {
   "cell_type": "code",
   "execution_count": 12,
   "metadata": {},
   "outputs": [
    {
     "name": "stderr",
     "output_type": "stream",
     "text": [
      "2023-01-11 17:49:12,143 INFO autoxai.explainer.base_explainer - No negative attributes in the explained model.\n",
      "2023-01-11 17:49:13,156 INFO autoxai.explainer.base_explainer - No negative attributes in the explained model.\n"
     ]
    }
   ],
   "source": [
    "sample_counter = 0\n",
    "\n",
    "# iterate over dataloader\n",
    "for sample_batch in val_dataloader:\n",
    "    sample_list, label_list = sample_batch\n",
    "    # iterate over all samples in batch\n",
    "    for sample, label in zip(sample_list, label_list):\n",
    "        # add batch size dimension to the data sample\n",
    "        input_data = sample.reshape(1, sample.shape[0], sample.shape[1], sample.shape[2]).to(device)\n",
    "        \n",
    "        # move it to specified device\n",
    "        input_data = input_data.to(device)\n",
    "        with AutoXaiExplainer(\n",
    "            model=model,\n",
    "            explainers=explainer_list,\n",
    "            target=label,\n",
    "        ) as xai_model:\n",
    "            # calculate attributes for every explainer\n",
    "            _, attributes_dict = xai_model(input_data)\n",
    "\n",
    "        for key, value in attributes_dict.items():\n",
    "            # create directory for every explainer artifacts\n",
    "            artifact_explainer_dir = os.path.join(artifact_dir, key)\n",
    "            if not os.path.exists(artifact_explainer_dir):\n",
    "                os.makedirs(artifact_explainer_dir)\n",
    "\n",
    "            # create figure from attributes and original image\n",
    "            figure = CVExplainer.visualize(attributions=value, transformed_img=sample)\n",
    "\n",
    "            # save figure to artifact directory\n",
    "            figure.savefig(os.path.join(artifact_explainer_dir, f\"artifact_{sample_counter}_{categories[label.item()]}.png\"))\n",
    "\n",
    "        sample_counter += 1\n",
    "        # if we processed desired number of samples break the loop\n",
    "        if sample_counter > max_samples_explained:\n",
    "            break\n",
    "\n",
    "    # if we processed desired number of samples break the loop\n",
    "    if sample_counter > max_samples_explained:\n",
    "        break"
   ]
  }
 ],
 "metadata": {
  "kernelspec": {
   "display_name": ".venv",
   "language": "python",
   "name": "python3"
  },
  "language_info": {
   "codemirror_mode": {
    "name": "ipython",
    "version": 3
   },
   "file_extension": ".py",
   "mimetype": "text/x-python",
   "name": "python",
   "nbconvert_exporter": "python",
   "pygments_lexer": "ipython3",
   "version": "3.8.16"
  },
  "orig_nbformat": 4,
  "vscode": {
   "interpreter": {
    "hash": "0b6969b3572db2a15157531a0a5e0349bcc012e2552026eae9f4d51dce8b0863"
   }
  }
 },
 "nbformat": 4,
 "nbformat_minor": 2
}
